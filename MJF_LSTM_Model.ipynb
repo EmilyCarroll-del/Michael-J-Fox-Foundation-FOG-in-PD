{
  "nbformat": 4,
  "nbformat_minor": 0,
  "metadata": {
    "colab": {
      "provenance": [],
      "authorship_tag": "ABX9TyPUeeGrnZpWLKDYVgkMO8k9",
      "include_colab_link": true
    },
    "kernelspec": {
      "name": "python3",
      "display_name": "Python 3"
    },
    "language_info": {
      "name": "python"
    }
  },
  "cells": [
    {
      "cell_type": "markdown",
      "metadata": {
        "id": "view-in-github",
        "colab_type": "text"
      },
      "source": [
        "<a href=\"https://colab.research.google.com/github/EmilyCarroll-del/Michael-J-Fox-Foundation-FOG-in-PD/blob/main/MJF_LSTM_Model.ipynb\" target=\"_parent\"><img src=\"https://colab.research.google.com/assets/colab-badge.svg\" alt=\"Open In Colab\"/></a>"
      ]
    },
    {
      "cell_type": "code",
      "execution_count": 42,
      "metadata": {
        "colab": {
          "base_uri": "https://localhost:8080/"
        },
        "id": "T8ew0oyHrKW4",
        "outputId": "52d69871-b6e4-489f-e3bf-868569d464a7"
      },
      "outputs": [
        {
          "output_type": "stream",
          "name": "stdout",
          "text": [
            "Drive already mounted at /content/drive; to attempt to forcibly remount, call drive.mount(\"/content/drive\", force_remount=True).\n"
          ]
        }
      ],
      "source": [
        "from google.colab import drive\n",
        "drive.mount('/content/drive')"
      ]
    },
    {
      "cell_type": "code",
      "source": [
        "%cd '/content/drive/MyDrive/Colab Notebooks/'\n",
        "%ls"
      ],
      "metadata": {
        "colab": {
          "base_uri": "https://localhost:8080/"
        },
        "id": "eUe0u_o5rYwO",
        "outputId": "f5e965ba-8c1d-48d9-b8a5-9576cf7576a4"
      },
      "execution_count": 43,
      "outputs": [
        {
          "output_type": "stream",
          "name": "stdout",
          "text": [
            "/content/drive/MyDrive/Colab Notebooks\n",
            "defog_features.csv            \u001b[0m\u001b[01;34mtlvmc-parkinsons-freezing-gait-prediction\u001b[0m/\n",
            "MJFF-FOG-Prediction-PD.ipynb  tlvmc-parkinsons-freezing-gait-prediction.zip\n"
          ]
        }
      ]
    },
    {
      "cell_type": "code",
      "source": [
        "pip install tsflex seglearn tensorflow"
      ],
      "metadata": {
        "colab": {
          "base_uri": "https://localhost:8080/"
        },
        "id": "rsDmJ_Y9u3sJ",
        "outputId": "2fd8dbaa-ec44-427c-ac6e-90b543c9098e"
      },
      "execution_count": 25,
      "outputs": [
        {
          "output_type": "stream",
          "name": "stdout",
          "text": [
            "Requirement already satisfied: tsflex in /usr/local/lib/python3.10/dist-packages (0.4.1)\n",
            "Requirement already satisfied: seglearn in /usr/local/lib/python3.10/dist-packages (1.2.5)\n",
            "Requirement already satisfied: tensorflow in /usr/local/lib/python3.10/dist-packages (2.17.0)\n",
            "Requirement already satisfied: dill<0.4.0,>=0.3.8 in /usr/local/lib/python3.10/dist-packages (from tsflex) (0.3.9)\n",
            "Requirement already satisfied: multiprocess<0.71.0,>=0.70.16 in /usr/local/lib/python3.10/dist-packages (from tsflex) (0.70.17)\n",
            "Requirement already satisfied: numpy>=1.22 in /usr/local/lib/python3.10/dist-packages (from tsflex) (1.26.4)\n",
            "Requirement already satisfied: pandas>=1 in /usr/local/lib/python3.10/dist-packages (from tsflex) (2.2.2)\n",
            "Requirement already satisfied: tqdm<5.0.0,>=4.62.3 in /usr/local/lib/python3.10/dist-packages (from tsflex) (4.66.5)\n",
            "Requirement already satisfied: scipy in /usr/local/lib/python3.10/dist-packages (from seglearn) (1.13.1)\n",
            "Requirement already satisfied: scikit-learn>=0.21.3 in /usr/local/lib/python3.10/dist-packages (from seglearn) (1.5.2)\n",
            "Requirement already satisfied: absl-py>=1.0.0 in /usr/local/lib/python3.10/dist-packages (from tensorflow) (1.4.0)\n",
            "Requirement already satisfied: astunparse>=1.6.0 in /usr/local/lib/python3.10/dist-packages (from tensorflow) (1.6.3)\n",
            "Requirement already satisfied: flatbuffers>=24.3.25 in /usr/local/lib/python3.10/dist-packages (from tensorflow) (24.3.25)\n",
            "Requirement already satisfied: gast!=0.5.0,!=0.5.1,!=0.5.2,>=0.2.1 in /usr/local/lib/python3.10/dist-packages (from tensorflow) (0.6.0)\n",
            "Requirement already satisfied: google-pasta>=0.1.1 in /usr/local/lib/python3.10/dist-packages (from tensorflow) (0.2.0)\n",
            "Requirement already satisfied: h5py>=3.10.0 in /usr/local/lib/python3.10/dist-packages (from tensorflow) (3.11.0)\n",
            "Requirement already satisfied: libclang>=13.0.0 in /usr/local/lib/python3.10/dist-packages (from tensorflow) (18.1.1)\n",
            "Requirement already satisfied: ml-dtypes<0.5.0,>=0.3.1 in /usr/local/lib/python3.10/dist-packages (from tensorflow) (0.4.1)\n",
            "Requirement already satisfied: opt-einsum>=2.3.2 in /usr/local/lib/python3.10/dist-packages (from tensorflow) (3.4.0)\n",
            "Requirement already satisfied: packaging in /usr/local/lib/python3.10/dist-packages (from tensorflow) (24.1)\n",
            "Requirement already satisfied: protobuf!=4.21.0,!=4.21.1,!=4.21.2,!=4.21.3,!=4.21.4,!=4.21.5,<5.0.0dev,>=3.20.3 in /usr/local/lib/python3.10/dist-packages (from tensorflow) (3.20.3)\n",
            "Requirement already satisfied: requests<3,>=2.21.0 in /usr/local/lib/python3.10/dist-packages (from tensorflow) (2.32.3)\n",
            "Requirement already satisfied: setuptools in /usr/local/lib/python3.10/dist-packages (from tensorflow) (71.0.4)\n",
            "Requirement already satisfied: six>=1.12.0 in /usr/local/lib/python3.10/dist-packages (from tensorflow) (1.16.0)\n",
            "Requirement already satisfied: termcolor>=1.1.0 in /usr/local/lib/python3.10/dist-packages (from tensorflow) (2.4.0)\n",
            "Requirement already satisfied: typing-extensions>=3.6.6 in /usr/local/lib/python3.10/dist-packages (from tensorflow) (4.12.2)\n",
            "Requirement already satisfied: wrapt>=1.11.0 in /usr/local/lib/python3.10/dist-packages (from tensorflow) (1.16.0)\n",
            "Requirement already satisfied: grpcio<2.0,>=1.24.3 in /usr/local/lib/python3.10/dist-packages (from tensorflow) (1.64.1)\n",
            "Requirement already satisfied: tensorboard<2.18,>=2.17 in /usr/local/lib/python3.10/dist-packages (from tensorflow) (2.17.0)\n",
            "Requirement already satisfied: keras>=3.2.0 in /usr/local/lib/python3.10/dist-packages (from tensorflow) (3.4.1)\n",
            "Requirement already satisfied: tensorflow-io-gcs-filesystem>=0.23.1 in /usr/local/lib/python3.10/dist-packages (from tensorflow) (0.37.1)\n",
            "Requirement already satisfied: wheel<1.0,>=0.23.0 in /usr/local/lib/python3.10/dist-packages (from astunparse>=1.6.0->tensorflow) (0.44.0)\n",
            "Requirement already satisfied: rich in /usr/local/lib/python3.10/dist-packages (from keras>=3.2.0->tensorflow) (13.8.1)\n",
            "Requirement already satisfied: namex in /usr/local/lib/python3.10/dist-packages (from keras>=3.2.0->tensorflow) (0.0.8)\n",
            "Requirement already satisfied: optree in /usr/local/lib/python3.10/dist-packages (from keras>=3.2.0->tensorflow) (0.12.1)\n",
            "Requirement already satisfied: python-dateutil>=2.8.2 in /usr/local/lib/python3.10/dist-packages (from pandas>=1->tsflex) (2.8.2)\n",
            "Requirement already satisfied: pytz>=2020.1 in /usr/local/lib/python3.10/dist-packages (from pandas>=1->tsflex) (2024.2)\n",
            "Requirement already satisfied: tzdata>=2022.7 in /usr/local/lib/python3.10/dist-packages (from pandas>=1->tsflex) (2024.2)\n",
            "Requirement already satisfied: charset-normalizer<4,>=2 in /usr/local/lib/python3.10/dist-packages (from requests<3,>=2.21.0->tensorflow) (3.3.2)\n",
            "Requirement already satisfied: idna<4,>=2.5 in /usr/local/lib/python3.10/dist-packages (from requests<3,>=2.21.0->tensorflow) (3.10)\n",
            "Requirement already satisfied: urllib3<3,>=1.21.1 in /usr/local/lib/python3.10/dist-packages (from requests<3,>=2.21.0->tensorflow) (2.2.3)\n",
            "Requirement already satisfied: certifi>=2017.4.17 in /usr/local/lib/python3.10/dist-packages (from requests<3,>=2.21.0->tensorflow) (2024.8.30)\n",
            "Requirement already satisfied: joblib>=1.2.0 in /usr/local/lib/python3.10/dist-packages (from scikit-learn>=0.21.3->seglearn) (1.4.2)\n",
            "Requirement already satisfied: threadpoolctl>=3.1.0 in /usr/local/lib/python3.10/dist-packages (from scikit-learn>=0.21.3->seglearn) (3.5.0)\n",
            "Requirement already satisfied: markdown>=2.6.8 in /usr/local/lib/python3.10/dist-packages (from tensorboard<2.18,>=2.17->tensorflow) (3.7)\n",
            "Requirement already satisfied: tensorboard-data-server<0.8.0,>=0.7.0 in /usr/local/lib/python3.10/dist-packages (from tensorboard<2.18,>=2.17->tensorflow) (0.7.2)\n",
            "Requirement already satisfied: werkzeug>=1.0.1 in /usr/local/lib/python3.10/dist-packages (from tensorboard<2.18,>=2.17->tensorflow) (3.0.4)\n",
            "Requirement already satisfied: MarkupSafe>=2.1.1 in /usr/local/lib/python3.10/dist-packages (from werkzeug>=1.0.1->tensorboard<2.18,>=2.17->tensorflow) (2.1.5)\n",
            "Requirement already satisfied: markdown-it-py>=2.2.0 in /usr/local/lib/python3.10/dist-packages (from rich->keras>=3.2.0->tensorflow) (3.0.0)\n",
            "Requirement already satisfied: pygments<3.0.0,>=2.13.0 in /usr/local/lib/python3.10/dist-packages (from rich->keras>=3.2.0->tensorflow) (2.18.0)\n",
            "Requirement already satisfied: mdurl~=0.1 in /usr/local/lib/python3.10/dist-packages (from markdown-it-py>=2.2.0->rich->keras>=3.2.0->tensorflow) (0.1.2)\n"
          ]
        }
      ]
    },
    {
      "cell_type": "code",
      "source": [
        "import numpy as np\n",
        "import pandas as pd\n",
        "import matplotlib.pyplot as plt\n",
        "import os\n",
        "import seaborn as sns\n",
        "from scipy.stats import zscore\n",
        "from tsflex.features import FeatureCollection, MultipleFeatureDescriptors\n",
        "from tsflex.features.integrations import seglearn_feature_dict_wrapper\n",
        "from seglearn.feature_functions import base_features, emg_features\n",
        "from sklearn.model_selection import train_test_split\n",
        "from sklearn.preprocessing import StandardScaler\n",
        "import tensorflow as tf\n",
        "from tensorflow.keras.models import Sequential\n",
        "from tensorflow.keras.layers import LSTM, Dense, Dropout"
      ],
      "metadata": {
        "id": "HHy0uGpPre5C"
      },
      "execution_count": 26,
      "outputs": []
    },
    {
      "cell_type": "code",
      "source": [
        "def process_directory(directory):\n",
        "    dfs = []\n",
        "    for file_name in os.listdir(directory):\n",
        "        file_path = os.path.join(directory, file_name)\n",
        "\n",
        "        # Check if the file is a CSV and process it\n",
        "        if file_name.endswith('.csv') and os.path.isfile(file_path):\n",
        "            df = pd.read_csv(file_path) #read csv files\n",
        "            df['source_directory'] = os.path.basename(directory)  # Add a column to identify the source directory\n",
        "            df['csv_name'] = os.path.basename(file_name)\n",
        "            dfs.append(df)\n",
        "\n",
        "        return pd.concat(dfs, ignore_index=True) if dfs else pd.DataFrame()"
      ],
      "metadata": {
        "id": "eUy_2H8qr8Zk"
      },
      "execution_count": 5,
      "outputs": []
    },
    {
      "cell_type": "code",
      "source": [
        "defog = process_directory('/content/drive/MyDrive/Colab Notebooks/tlvmc-parkinsons-freezing-gait-prediction/train/defog')\n",
        "tdcsfog = process_directory('/content/drive/MyDrive/Colab Notebooks/tlvmc-parkinsons-freezing-gait-prediction/train/tdcsfog')\n",
        "notype = process_directory('/content/drive/MyDrive/Colab Notebooks/tlvmc-parkinsons-freezing-gait-prediction/train/notype')"
      ],
      "metadata": {
        "id": "nfQkZZvDsJQx"
      },
      "execution_count": 6,
      "outputs": []
    },
    {
      "cell_type": "code",
      "source": [
        "#create IsFOG column\n",
        "defog['IsFOG'] = defog[['StartHesitation', 'Walking', 'Turn']].any(axis='columns')\n",
        "defog['IsFOG'] = defog['IsFOG'].astype(int)\n",
        "tdcsfog['IsFOG'] = tdcsfog[['StartHesitation', 'Walking', 'Turn']].any(axis='columns')\n",
        "tdcsfog['IsFOG'] = tdcsfog['IsFOG'].astype(int)\n",
        "\n",
        "#removing missing values\n",
        "#defog dataset, valid = false, task = false\n",
        "#tdcsfog has no missing values\n",
        "defog = defog[defog['Valid']]\n",
        "defog = defog[defog['Task']]"
      ],
      "metadata": {
        "id": "xJxgLAx0srUZ"
      },
      "execution_count": 21,
      "outputs": []
    },
    {
      "cell_type": "code",
      "source": [
        "def analyze_events_by_subject(df, dataset_name):\n",
        "    # Group by 'csv_name' assuming each file corresponds to a subject\n",
        "    events_by_subject = df.groupby('csv_name')[['Turn', 'Walking', 'StartHesitation']].sum()\n",
        "\n",
        "    # Calculate the total number of timestamps for each subject\n",
        "    total_timestamps = df.groupby('csv_name').size()\n",
        "\n",
        "    # Add the total timestamps to the dataframe\n",
        "    events_by_subject['Total'] = total_timestamps\n",
        "\n",
        "    # Calculate percentages\n",
        "    for event in ['Turn', 'Walking', 'StartHesitation']:\n",
        "        events_by_subject[f'{event}_Percent'] = events_by_subject[event] / events_by_subject['Total'] * 100\n",
        "\n",
        "    # Sort by total timestamps\n",
        "    events_by_subject = events_by_subject.sort_values('Total', ascending=False)\n",
        "\n",
        "    return events_by_subject\n",
        "\n",
        "defog_events = analyze_events_by_subject(defog, 'DEFOG')\n",
        "tdcsfog_events = analyze_events_by_subject(tdcsfog, 'TDCSFOG')"
      ],
      "metadata": {
        "colab": {
          "base_uri": "https://localhost:8080/"
        },
        "id": "aNFUL04AXyNH",
        "outputId": "a3c35979-aeca-48d9-f335-144c08e72cc8"
      },
      "execution_count": 18,
      "outputs": [
        {
          "output_type": "stream",
          "name": "stdout",
          "text": [
            "                Turn  Walking  StartHesitation  Total  Turn_Percent  \\\n",
            "csv_name                                                              \n",
            "02ea782681.csv   129        0                0  36873      0.349849   \n",
            "\n",
            "                Walking_Percent  StartHesitation_Percent  \n",
            "csv_name                                                  \n",
            "02ea782681.csv              0.0                      0.0  \n"
          ]
        }
      ]
    },
    {
      "cell_type": "code",
      "source": [
        "# Outlier detection function using IQR\n",
        "def detect_outliers_iqr(df, column):\n",
        "    Q1 = df[column].quantile(0.25)\n",
        "    Q3 = df[column].quantile(0.75)\n",
        "    IQR = Q3 - Q1\n",
        "\n",
        "    lower_bound = Q1 - 1.5 * IQR\n",
        "    upper_bound = Q3 + 1.5 * IQR\n",
        "\n",
        "    outliers = df[(df[column] < lower_bound) | (df[column] > upper_bound)]\n",
        "    return outliers\n",
        "\n",
        "outliers_AccV_defog = detect_outliers_iqr(defog, 'AccV')\n",
        "outliers_AccML_defog = detect_outliers_iqr(defog, 'AccML')\n",
        "outliers_AccAP_defog = detect_outliers_iqr(defog, 'AccAP')\n",
        "\n",
        "outliers_AccV_tdcsfog = detect_outliers_iqr(tdcsfog, 'AccV')\n",
        "outliers_AccML_tdcsfog = detect_outliers_iqr(tdcsfog, 'AccML')\n",
        "outliers_AccAP_tdcsfog = detect_outliers_iqr(tdcsfog, 'AccAP')"
      ],
      "metadata": {
        "id": "IEPPF2uNtEfZ"
      },
      "execution_count": 8,
      "outputs": []
    },
    {
      "cell_type": "code",
      "source": [
        "#DISCUSS THIS CODE BLOCK, output = empty df\n",
        "#defog['AccAP_zscore'] = zscore(defog['AccAP'])\n",
        "#defog['Walking_zscore'] = zscore(defog['Walking'])\n",
        "#print(defog[['AccAP', 'AccAP_zscore', 'Walking', 'Walking_zscore']].head())\n",
        "\n",
        "#threshold = 0.1\n",
        "#filtered_defog = defog[(defog['AccAP_zscore'].abs() <= threshold) & (defog['Walking_zscore'].abs() <= threshold)]\n",
        "#print(filtered_defog[['AccAP', 'AccAP_zscore', 'Walking', 'Walking_zscore']].head())"
      ],
      "metadata": {
        "id": "EuOeGPo8twSz"
      },
      "execution_count": 9,
      "outputs": []
    },
    {
      "cell_type": "code",
      "source": [
        "#extract TIME and FREQUENCY-DOMAIN FEATURES for DEFOG\n",
        "basic_feats = MultipleFeatureDescriptors(\n",
        "    functions=seglearn_feature_dict_wrapper(base_features()),\n",
        "    series_names=['AccV', 'AccML', 'AccAP'],\n",
        "    windows=[500],\n",
        "    strides=[500],\n",
        ")\n",
        "\n",
        "emg_feats = emg_features()\n",
        "del emg_feats['simple square integral'] # is same as abs_energy (which is in base_features)\n",
        "\n",
        "emg_feats = MultipleFeatureDescriptors(\n",
        "    functions=seglearn_feature_dict_wrapper(emg_feats),\n",
        "    series_names=['AccV', 'AccML', 'AccAP'],\n",
        "    windows=[500],\n",
        "    strides=[500]\n",
        ")\n",
        "\n",
        "fc = FeatureCollection([basic_feats, emg_feats])\n",
        "\n",
        "#defog_feats = fc.calculate(defog, return_df=True, include_final_window=True, approve_sparsity=True, window_idx=\"begin\").astype(np.float32)"
      ],
      "metadata": {
        "id": "Q65Ji8-6uaUM"
      },
      "execution_count": 13,
      "outputs": []
    },
    {
      "cell_type": "code",
      "source": [
        "#defog = pd.concat([defog, defog_feats], axis=1)\n",
        "#defog.head()"
      ],
      "metadata": {
        "id": "NlSt0DkwD2Ce"
      },
      "execution_count": 11,
      "outputs": []
    },
    {
      "cell_type": "code",
      "source": [
        "#extract TIME and FREQUENCY-DOMAIN FEATURES for DEFOG\n",
        "basic_feats = MultipleFeatureDescriptors(\n",
        "    functions=seglearn_feature_dict_wrapper(base_features()),\n",
        "    series_names=['AccV', 'AccML', 'AccAP'],\n",
        "    windows=[500],\n",
        "    strides=[500],\n",
        ")\n",
        "\n",
        "emg_feats = emg_features()\n",
        "del emg_feats['simple square integral'] # is same as abs_energy (which is in base_features)\n",
        "\n",
        "emg_feats = MultipleFeatureDescriptors(\n",
        "    functions=seglearn_feature_dict_wrapper(emg_feats),\n",
        "    series_names=['AccV', 'AccML', 'AccAP'],\n",
        "    windows=[500],\n",
        "    strides=[500]\n",
        ")\n",
        "\n",
        "fc = FeatureCollection([basic_feats, emg_feats])\n",
        "\n",
        "#tdcsfog_feats = fc.calculate(tdcsfog, return_df=True, include_final_window=True, approve_sparsity=True, window_idx=\"begin\").astype(np.float32)"
      ],
      "metadata": {
        "id": "eJ_fODOXSZrl"
      },
      "execution_count": 14,
      "outputs": []
    },
    {
      "cell_type": "code",
      "source": [
        "#tdcsfog = pd.concat([tdcsfog, tdcsfog_feats], axis=1)\n",
        "#tdcsfog.head()\n",
        "defog.head()"
      ],
      "metadata": {
        "id": "nCGCrURkPh3g",
        "colab": {
          "base_uri": "https://localhost:8080/",
          "height": 206
        },
        "outputId": "4ef6c187-faff-4ec6-b92b-cfa5be43b1d8"
      },
      "execution_count": 22,
      "outputs": [
        {
          "output_type": "execute_result",
          "data": {
            "text/plain": [
              "      Time      AccV     AccML     AccAP  StartHesitation  Turn  Walking  \\\n",
              "1000  1000 -0.970018  0.061626 -0.265625                0     0        0   \n",
              "1001  1001 -0.984375  0.044497 -0.265625                0     0        0   \n",
              "1002  1002 -0.984375  0.029016 -0.265625                0     0        0   \n",
              "1003  1003 -0.984375  0.015625 -0.265625                0     0        0   \n",
              "1004  1004 -0.984670  0.015330 -0.265625                0     0        0   \n",
              "\n",
              "      Valid  Task source_directory        csv_name  IsFOG  \n",
              "1000   True  True            defog  02ea782681.csv      0  \n",
              "1001   True  True            defog  02ea782681.csv      0  \n",
              "1002   True  True            defog  02ea782681.csv      0  \n",
              "1003   True  True            defog  02ea782681.csv      0  \n",
              "1004   True  True            defog  02ea782681.csv      0  "
            ],
            "text/html": [
              "\n",
              "  <div id=\"df-95d1f55b-d4de-40bd-9ad0-6a6a913cfbc9\" class=\"colab-df-container\">\n",
              "    <div>\n",
              "<style scoped>\n",
              "    .dataframe tbody tr th:only-of-type {\n",
              "        vertical-align: middle;\n",
              "    }\n",
              "\n",
              "    .dataframe tbody tr th {\n",
              "        vertical-align: top;\n",
              "    }\n",
              "\n",
              "    .dataframe thead th {\n",
              "        text-align: right;\n",
              "    }\n",
              "</style>\n",
              "<table border=\"1\" class=\"dataframe\">\n",
              "  <thead>\n",
              "    <tr style=\"text-align: right;\">\n",
              "      <th></th>\n",
              "      <th>Time</th>\n",
              "      <th>AccV</th>\n",
              "      <th>AccML</th>\n",
              "      <th>AccAP</th>\n",
              "      <th>StartHesitation</th>\n",
              "      <th>Turn</th>\n",
              "      <th>Walking</th>\n",
              "      <th>Valid</th>\n",
              "      <th>Task</th>\n",
              "      <th>source_directory</th>\n",
              "      <th>csv_name</th>\n",
              "      <th>IsFOG</th>\n",
              "    </tr>\n",
              "  </thead>\n",
              "  <tbody>\n",
              "    <tr>\n",
              "      <th>1000</th>\n",
              "      <td>1000</td>\n",
              "      <td>-0.970018</td>\n",
              "      <td>0.061626</td>\n",
              "      <td>-0.265625</td>\n",
              "      <td>0</td>\n",
              "      <td>0</td>\n",
              "      <td>0</td>\n",
              "      <td>True</td>\n",
              "      <td>True</td>\n",
              "      <td>defog</td>\n",
              "      <td>02ea782681.csv</td>\n",
              "      <td>0</td>\n",
              "    </tr>\n",
              "    <tr>\n",
              "      <th>1001</th>\n",
              "      <td>1001</td>\n",
              "      <td>-0.984375</td>\n",
              "      <td>0.044497</td>\n",
              "      <td>-0.265625</td>\n",
              "      <td>0</td>\n",
              "      <td>0</td>\n",
              "      <td>0</td>\n",
              "      <td>True</td>\n",
              "      <td>True</td>\n",
              "      <td>defog</td>\n",
              "      <td>02ea782681.csv</td>\n",
              "      <td>0</td>\n",
              "    </tr>\n",
              "    <tr>\n",
              "      <th>1002</th>\n",
              "      <td>1002</td>\n",
              "      <td>-0.984375</td>\n",
              "      <td>0.029016</td>\n",
              "      <td>-0.265625</td>\n",
              "      <td>0</td>\n",
              "      <td>0</td>\n",
              "      <td>0</td>\n",
              "      <td>True</td>\n",
              "      <td>True</td>\n",
              "      <td>defog</td>\n",
              "      <td>02ea782681.csv</td>\n",
              "      <td>0</td>\n",
              "    </tr>\n",
              "    <tr>\n",
              "      <th>1003</th>\n",
              "      <td>1003</td>\n",
              "      <td>-0.984375</td>\n",
              "      <td>0.015625</td>\n",
              "      <td>-0.265625</td>\n",
              "      <td>0</td>\n",
              "      <td>0</td>\n",
              "      <td>0</td>\n",
              "      <td>True</td>\n",
              "      <td>True</td>\n",
              "      <td>defog</td>\n",
              "      <td>02ea782681.csv</td>\n",
              "      <td>0</td>\n",
              "    </tr>\n",
              "    <tr>\n",
              "      <th>1004</th>\n",
              "      <td>1004</td>\n",
              "      <td>-0.984670</td>\n",
              "      <td>0.015330</td>\n",
              "      <td>-0.265625</td>\n",
              "      <td>0</td>\n",
              "      <td>0</td>\n",
              "      <td>0</td>\n",
              "      <td>True</td>\n",
              "      <td>True</td>\n",
              "      <td>defog</td>\n",
              "      <td>02ea782681.csv</td>\n",
              "      <td>0</td>\n",
              "    </tr>\n",
              "  </tbody>\n",
              "</table>\n",
              "</div>\n",
              "    <div class=\"colab-df-buttons\">\n",
              "\n",
              "  <div class=\"colab-df-container\">\n",
              "    <button class=\"colab-df-convert\" onclick=\"convertToInteractive('df-95d1f55b-d4de-40bd-9ad0-6a6a913cfbc9')\"\n",
              "            title=\"Convert this dataframe to an interactive table.\"\n",
              "            style=\"display:none;\">\n",
              "\n",
              "  <svg xmlns=\"http://www.w3.org/2000/svg\" height=\"24px\" viewBox=\"0 -960 960 960\">\n",
              "    <path d=\"M120-120v-720h720v720H120Zm60-500h600v-160H180v160Zm220 220h160v-160H400v160Zm0 220h160v-160H400v160ZM180-400h160v-160H180v160Zm440 0h160v-160H620v160ZM180-180h160v-160H180v160Zm440 0h160v-160H620v160Z\"/>\n",
              "  </svg>\n",
              "    </button>\n",
              "\n",
              "  <style>\n",
              "    .colab-df-container {\n",
              "      display:flex;\n",
              "      gap: 12px;\n",
              "    }\n",
              "\n",
              "    .colab-df-convert {\n",
              "      background-color: #E8F0FE;\n",
              "      border: none;\n",
              "      border-radius: 50%;\n",
              "      cursor: pointer;\n",
              "      display: none;\n",
              "      fill: #1967D2;\n",
              "      height: 32px;\n",
              "      padding: 0 0 0 0;\n",
              "      width: 32px;\n",
              "    }\n",
              "\n",
              "    .colab-df-convert:hover {\n",
              "      background-color: #E2EBFA;\n",
              "      box-shadow: 0px 1px 2px rgba(60, 64, 67, 0.3), 0px 1px 3px 1px rgba(60, 64, 67, 0.15);\n",
              "      fill: #174EA6;\n",
              "    }\n",
              "\n",
              "    .colab-df-buttons div {\n",
              "      margin-bottom: 4px;\n",
              "    }\n",
              "\n",
              "    [theme=dark] .colab-df-convert {\n",
              "      background-color: #3B4455;\n",
              "      fill: #D2E3FC;\n",
              "    }\n",
              "\n",
              "    [theme=dark] .colab-df-convert:hover {\n",
              "      background-color: #434B5C;\n",
              "      box-shadow: 0px 1px 3px 1px rgba(0, 0, 0, 0.15);\n",
              "      filter: drop-shadow(0px 1px 2px rgba(0, 0, 0, 0.3));\n",
              "      fill: #FFFFFF;\n",
              "    }\n",
              "  </style>\n",
              "\n",
              "    <script>\n",
              "      const buttonEl =\n",
              "        document.querySelector('#df-95d1f55b-d4de-40bd-9ad0-6a6a913cfbc9 button.colab-df-convert');\n",
              "      buttonEl.style.display =\n",
              "        google.colab.kernel.accessAllowed ? 'block' : 'none';\n",
              "\n",
              "      async function convertToInteractive(key) {\n",
              "        const element = document.querySelector('#df-95d1f55b-d4de-40bd-9ad0-6a6a913cfbc9');\n",
              "        const dataTable =\n",
              "          await google.colab.kernel.invokeFunction('convertToInteractive',\n",
              "                                                    [key], {});\n",
              "        if (!dataTable) return;\n",
              "\n",
              "        const docLinkHtml = 'Like what you see? Visit the ' +\n",
              "          '<a target=\"_blank\" href=https://colab.research.google.com/notebooks/data_table.ipynb>data table notebook</a>'\n",
              "          + ' to learn more about interactive tables.';\n",
              "        element.innerHTML = '';\n",
              "        dataTable['output_type'] = 'display_data';\n",
              "        await google.colab.output.renderOutput(dataTable, element);\n",
              "        const docLink = document.createElement('div');\n",
              "        docLink.innerHTML = docLinkHtml;\n",
              "        element.appendChild(docLink);\n",
              "      }\n",
              "    </script>\n",
              "  </div>\n",
              "\n",
              "\n",
              "<div id=\"df-a2ccc02b-8d27-4250-ad53-28f89c6e40bc\">\n",
              "  <button class=\"colab-df-quickchart\" onclick=\"quickchart('df-a2ccc02b-8d27-4250-ad53-28f89c6e40bc')\"\n",
              "            title=\"Suggest charts\"\n",
              "            style=\"display:none;\">\n",
              "\n",
              "<svg xmlns=\"http://www.w3.org/2000/svg\" height=\"24px\"viewBox=\"0 0 24 24\"\n",
              "     width=\"24px\">\n",
              "    <g>\n",
              "        <path d=\"M19 3H5c-1.1 0-2 .9-2 2v14c0 1.1.9 2 2 2h14c1.1 0 2-.9 2-2V5c0-1.1-.9-2-2-2zM9 17H7v-7h2v7zm4 0h-2V7h2v10zm4 0h-2v-4h2v4z\"/>\n",
              "    </g>\n",
              "</svg>\n",
              "  </button>\n",
              "\n",
              "<style>\n",
              "  .colab-df-quickchart {\n",
              "      --bg-color: #E8F0FE;\n",
              "      --fill-color: #1967D2;\n",
              "      --hover-bg-color: #E2EBFA;\n",
              "      --hover-fill-color: #174EA6;\n",
              "      --disabled-fill-color: #AAA;\n",
              "      --disabled-bg-color: #DDD;\n",
              "  }\n",
              "\n",
              "  [theme=dark] .colab-df-quickchart {\n",
              "      --bg-color: #3B4455;\n",
              "      --fill-color: #D2E3FC;\n",
              "      --hover-bg-color: #434B5C;\n",
              "      --hover-fill-color: #FFFFFF;\n",
              "      --disabled-bg-color: #3B4455;\n",
              "      --disabled-fill-color: #666;\n",
              "  }\n",
              "\n",
              "  .colab-df-quickchart {\n",
              "    background-color: var(--bg-color);\n",
              "    border: none;\n",
              "    border-radius: 50%;\n",
              "    cursor: pointer;\n",
              "    display: none;\n",
              "    fill: var(--fill-color);\n",
              "    height: 32px;\n",
              "    padding: 0;\n",
              "    width: 32px;\n",
              "  }\n",
              "\n",
              "  .colab-df-quickchart:hover {\n",
              "    background-color: var(--hover-bg-color);\n",
              "    box-shadow: 0 1px 2px rgba(60, 64, 67, 0.3), 0 1px 3px 1px rgba(60, 64, 67, 0.15);\n",
              "    fill: var(--button-hover-fill-color);\n",
              "  }\n",
              "\n",
              "  .colab-df-quickchart-complete:disabled,\n",
              "  .colab-df-quickchart-complete:disabled:hover {\n",
              "    background-color: var(--disabled-bg-color);\n",
              "    fill: var(--disabled-fill-color);\n",
              "    box-shadow: none;\n",
              "  }\n",
              "\n",
              "  .colab-df-spinner {\n",
              "    border: 2px solid var(--fill-color);\n",
              "    border-color: transparent;\n",
              "    border-bottom-color: var(--fill-color);\n",
              "    animation:\n",
              "      spin 1s steps(1) infinite;\n",
              "  }\n",
              "\n",
              "  @keyframes spin {\n",
              "    0% {\n",
              "      border-color: transparent;\n",
              "      border-bottom-color: var(--fill-color);\n",
              "      border-left-color: var(--fill-color);\n",
              "    }\n",
              "    20% {\n",
              "      border-color: transparent;\n",
              "      border-left-color: var(--fill-color);\n",
              "      border-top-color: var(--fill-color);\n",
              "    }\n",
              "    30% {\n",
              "      border-color: transparent;\n",
              "      border-left-color: var(--fill-color);\n",
              "      border-top-color: var(--fill-color);\n",
              "      border-right-color: var(--fill-color);\n",
              "    }\n",
              "    40% {\n",
              "      border-color: transparent;\n",
              "      border-right-color: var(--fill-color);\n",
              "      border-top-color: var(--fill-color);\n",
              "    }\n",
              "    60% {\n",
              "      border-color: transparent;\n",
              "      border-right-color: var(--fill-color);\n",
              "    }\n",
              "    80% {\n",
              "      border-color: transparent;\n",
              "      border-right-color: var(--fill-color);\n",
              "      border-bottom-color: var(--fill-color);\n",
              "    }\n",
              "    90% {\n",
              "      border-color: transparent;\n",
              "      border-bottom-color: var(--fill-color);\n",
              "    }\n",
              "  }\n",
              "</style>\n",
              "\n",
              "  <script>\n",
              "    async function quickchart(key) {\n",
              "      const quickchartButtonEl =\n",
              "        document.querySelector('#' + key + ' button');\n",
              "      quickchartButtonEl.disabled = true;  // To prevent multiple clicks.\n",
              "      quickchartButtonEl.classList.add('colab-df-spinner');\n",
              "      try {\n",
              "        const charts = await google.colab.kernel.invokeFunction(\n",
              "            'suggestCharts', [key], {});\n",
              "      } catch (error) {\n",
              "        console.error('Error during call to suggestCharts:', error);\n",
              "      }\n",
              "      quickchartButtonEl.classList.remove('colab-df-spinner');\n",
              "      quickchartButtonEl.classList.add('colab-df-quickchart-complete');\n",
              "    }\n",
              "    (() => {\n",
              "      let quickchartButtonEl =\n",
              "        document.querySelector('#df-a2ccc02b-8d27-4250-ad53-28f89c6e40bc button');\n",
              "      quickchartButtonEl.style.display =\n",
              "        google.colab.kernel.accessAllowed ? 'block' : 'none';\n",
              "    })();\n",
              "  </script>\n",
              "</div>\n",
              "\n",
              "    </div>\n",
              "  </div>\n"
            ],
            "application/vnd.google.colaboratory.intrinsic+json": {
              "type": "dataframe",
              "variable_name": "defog",
              "summary": "{\n  \"name\": \"defog\",\n  \"rows\": 36873,\n  \"fields\": [\n    {\n      \"column\": \"Time\",\n      \"properties\": {\n        \"dtype\": \"number\",\n        \"std\": 46687,\n        \"min\": 1000,\n        \"max\": 161906,\n        \"num_unique_values\": 36873,\n        \"samples\": [\n          89196,\n          124046,\n          34252\n        ],\n        \"semantic_type\": \"\",\n        \"description\": \"\"\n      }\n    },\n    {\n      \"column\": \"AccV\",\n      \"properties\": {\n        \"dtype\": \"number\",\n        \"std\": 0.12272443282870583,\n        \"min\": -2.76459465199688,\n        \"max\": 0.156228838417905,\n        \"num_unique_values\": 18310,\n        \"samples\": [\n          -0.781299189888748,\n          -1.02269422810909,\n          -0.817859423095797\n        ],\n        \"semantic_type\": \"\",\n        \"description\": \"\"\n      }\n    },\n    {\n      \"column\": \"AccML\",\n      \"properties\": {\n        \"dtype\": \"number\",\n        \"std\": 0.12148521856444143,\n        \"min\": -1.06325007429161,\n        \"max\": 1.50162861930944,\n        \"num_unique_values\": 19781,\n        \"samples\": [\n          0.21617691524631,\n          -0.234578992911957,\n          -0.0446457598755861\n        ],\n        \"semantic_type\": \"\",\n        \"description\": \"\"\n      }\n    },\n    {\n      \"column\": \"AccAP\",\n      \"properties\": {\n        \"dtype\": \"number\",\n        \"std\": 0.13013151983773477,\n        \"min\": -1.27062637531325,\n        \"max\": 0.296875,\n        \"num_unique_values\": 17754,\n        \"samples\": [\n          -0.157650298421468,\n          -0.309744768156139,\n          -0.544755814547148\n        ],\n        \"semantic_type\": \"\",\n        \"description\": \"\"\n      }\n    },\n    {\n      \"column\": \"StartHesitation\",\n      \"properties\": {\n        \"dtype\": \"number\",\n        \"std\": 0,\n        \"min\": 0,\n        \"max\": 0,\n        \"num_unique_values\": 1,\n        \"samples\": [\n          0\n        ],\n        \"semantic_type\": \"\",\n        \"description\": \"\"\n      }\n    },\n    {\n      \"column\": \"Turn\",\n      \"properties\": {\n        \"dtype\": \"number\",\n        \"std\": 0,\n        \"min\": 0,\n        \"max\": 1,\n        \"num_unique_values\": 2,\n        \"samples\": [\n          1\n        ],\n        \"semantic_type\": \"\",\n        \"description\": \"\"\n      }\n    },\n    {\n      \"column\": \"Walking\",\n      \"properties\": {\n        \"dtype\": \"number\",\n        \"std\": 0,\n        \"min\": 0,\n        \"max\": 0,\n        \"num_unique_values\": 1,\n        \"samples\": [\n          0\n        ],\n        \"semantic_type\": \"\",\n        \"description\": \"\"\n      }\n    },\n    {\n      \"column\": \"Valid\",\n      \"properties\": {\n        \"dtype\": \"boolean\",\n        \"num_unique_values\": 1,\n        \"samples\": [\n          true\n        ],\n        \"semantic_type\": \"\",\n        \"description\": \"\"\n      }\n    },\n    {\n      \"column\": \"Task\",\n      \"properties\": {\n        \"dtype\": \"boolean\",\n        \"num_unique_values\": 1,\n        \"samples\": [\n          true\n        ],\n        \"semantic_type\": \"\",\n        \"description\": \"\"\n      }\n    },\n    {\n      \"column\": \"source_directory\",\n      \"properties\": {\n        \"dtype\": \"category\",\n        \"num_unique_values\": 1,\n        \"samples\": [\n          \"defog\"\n        ],\n        \"semantic_type\": \"\",\n        \"description\": \"\"\n      }\n    },\n    {\n      \"column\": \"csv_name\",\n      \"properties\": {\n        \"dtype\": \"category\",\n        \"num_unique_values\": 1,\n        \"samples\": [\n          \"02ea782681.csv\"\n        ],\n        \"semantic_type\": \"\",\n        \"description\": \"\"\n      }\n    },\n    {\n      \"column\": \"IsFOG\",\n      \"properties\": {\n        \"dtype\": \"number\",\n        \"std\": 0,\n        \"min\": 0,\n        \"max\": 1,\n        \"num_unique_values\": 2,\n        \"samples\": [\n          1\n        ],\n        \"semantic_type\": \"\",\n        \"description\": \"\"\n      }\n    }\n  ]\n}"
            }
          },
          "metadata": {},
          "execution_count": 22
        }
      ]
    },
    {
      "cell_type": "code",
      "source": [
        "#training an LSTM model on defog\n",
        "\n",
        "X = defog[['AccV', 'AccML', 'AccAP']].values  # Using accelerometer features\n",
        "y = defog['IsFOG'].values\n",
        "\n",
        "#samples: Number of windows/segments (i.e., the number of time series segments).\n",
        "#time_steps: Number of time steps in each window/segment.\n",
        "#n_features: Number of features (e.g., accelerometer axes: AccV, AccML, AccAP).\n",
        "time_steps = 1  #needs to be adjusted\n",
        "n_features = X.shape[1]\n",
        "\n",
        "num_samples = X.shape[0]\n",
        "\n",
        "# Calculate the number of complete windows\n",
        "if num_samples % time_steps != 0:\n",
        "    # If the data doesn't fit evenly into windows, trim the excess samples\n",
        "    num_samples = (num_samples // time_steps) * time_steps\n",
        "    X_trimmed = X[:num_samples]  # Trim X to be divisible by time_steps\n",
        "    y_trimmed = y[:num_samples]\n",
        "else:\n",
        "    X_trimmed = X\n",
        "    y_trimmed = y\n",
        "\n",
        "X_reshaped = X_trimmed.reshape(-1, time_steps, n_features)  # Reshape to (samples, time steps, features)\n",
        "y_reshaped = y_trimmed[:num_samples].reshape(-1, time_steps)\n",
        "\n",
        "X_train, X_test, y_train, y_test = train_test_split(X_reshaped, y_reshaped, test_size=0.2, random_state=42)\n",
        "\n",
        "scaler = StandardScaler()\n",
        "X_train = np.array([scaler.fit_transform(seq) for seq in X_train])  # Normalize each sequence\n",
        "X_test = np.array([scaler.transform(seq) for seq in X_test])"
      ],
      "metadata": {
        "id": "cGUqFdpsSJxS"
      },
      "execution_count": 38,
      "outputs": []
    },
    {
      "cell_type": "code",
      "source": [
        "model = Sequential()\n",
        "\n",
        "# Add LSTM layer\n",
        "model.add(LSTM(units=64, input_shape=(time_steps, n_features), return_sequences=False))\n",
        "\n",
        "# Add Dropout for regularization\n",
        "model.add(Dropout(0.5))\n",
        "\n",
        "# Add Dense layer (output layer)\n",
        "model.add(Dense(1, activation='sigmoid'))  # For binary classification (use 'softmax' for multi-class)\n",
        "\n",
        "# Compile the model\n",
        "model.compile(optimizer='adam', loss='binary_crossentropy', metrics=['accuracy'])\n",
        "\n",
        "# Model summary to see the architecture\n",
        "model.summary()"
      ],
      "metadata": {
        "colab": {
          "base_uri": "https://localhost:8080/",
          "height": 293
        },
        "id": "yJCXGnSRbhIE",
        "outputId": "ef0f354f-adfe-44e9-a68f-cf03988162f3"
      },
      "execution_count": 39,
      "outputs": [
        {
          "output_type": "stream",
          "name": "stderr",
          "text": [
            "/usr/local/lib/python3.10/dist-packages/keras/src/layers/rnn/rnn.py:204: UserWarning: Do not pass an `input_shape`/`input_dim` argument to a layer. When using Sequential models, prefer using an `Input(shape)` object as the first layer in the model instead.\n",
            "  super().__init__(**kwargs)\n"
          ]
        },
        {
          "output_type": "display_data",
          "data": {
            "text/plain": [
              "\u001b[1mModel: \"sequential\"\u001b[0m\n"
            ],
            "text/html": [
              "<pre style=\"white-space:pre;overflow-x:auto;line-height:normal;font-family:Menlo,'DejaVu Sans Mono',consolas,'Courier New',monospace\"><span style=\"font-weight: bold\">Model: \"sequential\"</span>\n",
              "</pre>\n"
            ]
          },
          "metadata": {}
        },
        {
          "output_type": "display_data",
          "data": {
            "text/plain": [
              "┏━━━━━━━━━━━━━━━━━━━━━━━━━━━━━━━━━━━━━━┳━━━━━━━━━━━━━━━━━━━━━━━━━━━━━┳━━━━━━━━━━━━━━━━━┓\n",
              "┃\u001b[1m \u001b[0m\u001b[1mLayer (type)                        \u001b[0m\u001b[1m \u001b[0m┃\u001b[1m \u001b[0m\u001b[1mOutput Shape               \u001b[0m\u001b[1m \u001b[0m┃\u001b[1m \u001b[0m\u001b[1m        Param #\u001b[0m\u001b[1m \u001b[0m┃\n",
              "┡━━━━━━━━━━━━━━━━━━━━━━━━━━━━━━━━━━━━━━╇━━━━━━━━━━━━━━━━━━━━━━━━━━━━━╇━━━━━━━━━━━━━━━━━┩\n",
              "│ lstm (\u001b[38;5;33mLSTM\u001b[0m)                          │ (\u001b[38;5;45mNone\u001b[0m, \u001b[38;5;34m64\u001b[0m)                  │          \u001b[38;5;34m17,408\u001b[0m │\n",
              "├──────────────────────────────────────┼─────────────────────────────┼─────────────────┤\n",
              "│ dropout (\u001b[38;5;33mDropout\u001b[0m)                    │ (\u001b[38;5;45mNone\u001b[0m, \u001b[38;5;34m64\u001b[0m)                  │               \u001b[38;5;34m0\u001b[0m │\n",
              "├──────────────────────────────────────┼─────────────────────────────┼─────────────────┤\n",
              "│ dense (\u001b[38;5;33mDense\u001b[0m)                        │ (\u001b[38;5;45mNone\u001b[0m, \u001b[38;5;34m1\u001b[0m)                   │              \u001b[38;5;34m65\u001b[0m │\n",
              "└──────────────────────────────────────┴─────────────────────────────┴─────────────────┘\n"
            ],
            "text/html": [
              "<pre style=\"white-space:pre;overflow-x:auto;line-height:normal;font-family:Menlo,'DejaVu Sans Mono',consolas,'Courier New',monospace\">┏━━━━━━━━━━━━━━━━━━━━━━━━━━━━━━━━━━━━━━┳━━━━━━━━━━━━━━━━━━━━━━━━━━━━━┳━━━━━━━━━━━━━━━━━┓\n",
              "┃<span style=\"font-weight: bold\"> Layer (type)                         </span>┃<span style=\"font-weight: bold\"> Output Shape                </span>┃<span style=\"font-weight: bold\">         Param # </span>┃\n",
              "┡━━━━━━━━━━━━━━━━━━━━━━━━━━━━━━━━━━━━━━╇━━━━━━━━━━━━━━━━━━━━━━━━━━━━━╇━━━━━━━━━━━━━━━━━┩\n",
              "│ lstm (<span style=\"color: #0087ff; text-decoration-color: #0087ff\">LSTM</span>)                          │ (<span style=\"color: #00d7ff; text-decoration-color: #00d7ff\">None</span>, <span style=\"color: #00af00; text-decoration-color: #00af00\">64</span>)                  │          <span style=\"color: #00af00; text-decoration-color: #00af00\">17,408</span> │\n",
              "├──────────────────────────────────────┼─────────────────────────────┼─────────────────┤\n",
              "│ dropout (<span style=\"color: #0087ff; text-decoration-color: #0087ff\">Dropout</span>)                    │ (<span style=\"color: #00d7ff; text-decoration-color: #00d7ff\">None</span>, <span style=\"color: #00af00; text-decoration-color: #00af00\">64</span>)                  │               <span style=\"color: #00af00; text-decoration-color: #00af00\">0</span> │\n",
              "├──────────────────────────────────────┼─────────────────────────────┼─────────────────┤\n",
              "│ dense (<span style=\"color: #0087ff; text-decoration-color: #0087ff\">Dense</span>)                        │ (<span style=\"color: #00d7ff; text-decoration-color: #00d7ff\">None</span>, <span style=\"color: #00af00; text-decoration-color: #00af00\">1</span>)                   │              <span style=\"color: #00af00; text-decoration-color: #00af00\">65</span> │\n",
              "└──────────────────────────────────────┴─────────────────────────────┴─────────────────┘\n",
              "</pre>\n"
            ]
          },
          "metadata": {}
        },
        {
          "output_type": "display_data",
          "data": {
            "text/plain": [
              "\u001b[1m Total params: \u001b[0m\u001b[38;5;34m17,473\u001b[0m (68.25 KB)\n"
            ],
            "text/html": [
              "<pre style=\"white-space:pre;overflow-x:auto;line-height:normal;font-family:Menlo,'DejaVu Sans Mono',consolas,'Courier New',monospace\"><span style=\"font-weight: bold\"> Total params: </span><span style=\"color: #00af00; text-decoration-color: #00af00\">17,473</span> (68.25 KB)\n",
              "</pre>\n"
            ]
          },
          "metadata": {}
        },
        {
          "output_type": "display_data",
          "data": {
            "text/plain": [
              "\u001b[1m Trainable params: \u001b[0m\u001b[38;5;34m17,473\u001b[0m (68.25 KB)\n"
            ],
            "text/html": [
              "<pre style=\"white-space:pre;overflow-x:auto;line-height:normal;font-family:Menlo,'DejaVu Sans Mono',consolas,'Courier New',monospace\"><span style=\"font-weight: bold\"> Trainable params: </span><span style=\"color: #00af00; text-decoration-color: #00af00\">17,473</span> (68.25 KB)\n",
              "</pre>\n"
            ]
          },
          "metadata": {}
        },
        {
          "output_type": "display_data",
          "data": {
            "text/plain": [
              "\u001b[1m Non-trainable params: \u001b[0m\u001b[38;5;34m0\u001b[0m (0.00 B)\n"
            ],
            "text/html": [
              "<pre style=\"white-space:pre;overflow-x:auto;line-height:normal;font-family:Menlo,'DejaVu Sans Mono',consolas,'Courier New',monospace\"><span style=\"font-weight: bold\"> Non-trainable params: </span><span style=\"color: #00af00; text-decoration-color: #00af00\">0</span> (0.00 B)\n",
              "</pre>\n"
            ]
          },
          "metadata": {}
        }
      ]
    },
    {
      "cell_type": "code",
      "source": [
        "# Train the model\n",
        "history = model.fit(\n",
        "    X_train, y_train,\n",
        "    epochs=20,  # Number of epochs to train\n",
        "    batch_size=64,  # Batch size\n",
        "    validation_data=(X_test, y_test),\n",
        "    verbose=2  # Progress bar and logs\n",
        ")"
      ],
      "metadata": {
        "colab": {
          "base_uri": "https://localhost:8080/"
        },
        "id": "FUPhPILwb4FP",
        "outputId": "2a3f5377-47c8-4d16-dc26-50d52fdf610e"
      },
      "execution_count": 40,
      "outputs": [
        {
          "output_type": "stream",
          "name": "stdout",
          "text": [
            "Epoch 1/20\n",
            "461/461 - 4s - 9ms/step - accuracy: 0.9963 - loss: 0.2217 - val_accuracy: 0.9972 - val_loss: 0.0294\n",
            "Epoch 2/20\n",
            "461/461 - 2s - 5ms/step - accuracy: 0.9963 - loss: 0.0278 - val_accuracy: 0.9972 - val_loss: 0.0202\n",
            "Epoch 3/20\n",
            "461/461 - 2s - 5ms/step - accuracy: 0.9963 - loss: 0.0249 - val_accuracy: 0.9972 - val_loss: 0.0196\n",
            "Epoch 4/20\n",
            "461/461 - 2s - 4ms/step - accuracy: 0.9963 - loss: 0.0252 - val_accuracy: 0.9972 - val_loss: 0.0196\n",
            "Epoch 5/20\n",
            "461/461 - 2s - 5ms/step - accuracy: 0.9963 - loss: 0.0250 - val_accuracy: 0.9972 - val_loss: 0.0196\n",
            "Epoch 6/20\n",
            "461/461 - 2s - 5ms/step - accuracy: 0.9963 - loss: 0.0251 - val_accuracy: 0.9972 - val_loss: 0.0196\n",
            "Epoch 7/20\n",
            "461/461 - 2s - 4ms/step - accuracy: 0.9963 - loss: 0.0250 - val_accuracy: 0.9972 - val_loss: 0.0196\n",
            "Epoch 8/20\n",
            "461/461 - 1s - 3ms/step - accuracy: 0.9963 - loss: 0.0252 - val_accuracy: 0.9972 - val_loss: 0.0196\n",
            "Epoch 9/20\n",
            "461/461 - 2s - 5ms/step - accuracy: 0.9963 - loss: 0.0251 - val_accuracy: 0.9972 - val_loss: 0.0196\n",
            "Epoch 10/20\n",
            "461/461 - 3s - 6ms/step - accuracy: 0.9963 - loss: 0.0249 - val_accuracy: 0.9972 - val_loss: 0.0196\n",
            "Epoch 11/20\n",
            "461/461 - 3s - 7ms/step - accuracy: 0.9963 - loss: 0.0250 - val_accuracy: 0.9972 - val_loss: 0.0196\n",
            "Epoch 12/20\n",
            "461/461 - 3s - 6ms/step - accuracy: 0.9963 - loss: 0.0255 - val_accuracy: 0.9972 - val_loss: 0.0196\n",
            "Epoch 13/20\n",
            "461/461 - 2s - 3ms/step - accuracy: 0.9963 - loss: 0.0251 - val_accuracy: 0.9972 - val_loss: 0.0197\n",
            "Epoch 14/20\n",
            "461/461 - 3s - 6ms/step - accuracy: 0.9963 - loss: 0.0251 - val_accuracy: 0.9972 - val_loss: 0.0198\n",
            "Epoch 15/20\n",
            "461/461 - 2s - 5ms/step - accuracy: 0.9963 - loss: 0.0250 - val_accuracy: 0.9972 - val_loss: 0.0197\n",
            "Epoch 16/20\n",
            "461/461 - 2s - 4ms/step - accuracy: 0.9963 - loss: 0.0252 - val_accuracy: 0.9972 - val_loss: 0.0196\n",
            "Epoch 17/20\n",
            "461/461 - 3s - 5ms/step - accuracy: 0.9963 - loss: 0.0251 - val_accuracy: 0.9972 - val_loss: 0.0197\n",
            "Epoch 18/20\n",
            "461/461 - 3s - 6ms/step - accuracy: 0.9963 - loss: 0.0254 - val_accuracy: 0.9972 - val_loss: 0.0197\n",
            "Epoch 19/20\n",
            "461/461 - 2s - 4ms/step - accuracy: 0.9963 - loss: 0.0252 - val_accuracy: 0.9972 - val_loss: 0.0196\n",
            "Epoch 20/20\n",
            "461/461 - 3s - 6ms/step - accuracy: 0.9963 - loss: 0.0251 - val_accuracy: 0.9972 - val_loss: 0.0196\n"
          ]
        }
      ]
    },
    {
      "cell_type": "code",
      "source": [
        "# Evaluate the model on the test set\n",
        "loss, accuracy = model.evaluate(X_test, y_test, verbose=2)\n",
        "print(f\"Test Loss: {loss:.4f}, Test Accuracy: {accuracy:.4f}\")"
      ],
      "metadata": {
        "colab": {
          "base_uri": "https://localhost:8080/"
        },
        "id": "inJj86cob7mb",
        "outputId": "6290e8aa-fc22-4860-e6f8-109702ed7ff5"
      },
      "execution_count": 41,
      "outputs": [
        {
          "output_type": "stream",
          "name": "stdout",
          "text": [
            "231/231 - 0s - 2ms/step - accuracy: 0.9972 - loss: 0.0196\n",
            "Test Loss: 0.0196, Test Accuracy: 0.9972\n"
          ]
        }
      ]
    },
    {
      "cell_type": "code",
      "source": [],
      "metadata": {
        "id": "jerPOe9-fxJq"
      },
      "execution_count": null,
      "outputs": []
    }
  ]
}